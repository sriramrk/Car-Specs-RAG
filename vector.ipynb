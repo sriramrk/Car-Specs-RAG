{
 "cells": [
  {
   "cell_type": "markdown",
   "id": "592de1dd",
   "metadata": {},
   "source": [
    "1. Load all imports"
   ]
  },
  {
   "cell_type": "code",
   "execution_count": 30,
   "id": "e9a724c4",
   "metadata": {},
   "outputs": [
    {
     "data": {
      "text/plain": [
       "True"
      ]
     },
     "execution_count": 30,
     "metadata": {},
     "output_type": "execute_result"
    }
   ],
   "source": [
    "import os\n",
    "import pandas as pd\n",
    "from langchain_community.vectorstores import Chroma\n",
    "from langchain_openai import OpenAIEmbeddings\n",
    "from langchain_core.documents import Document\n",
    "from dotenv import load_dotenv\n",
    "\n",
    "from sklearn.manifold import TSNE\n",
    "import plotly.graph_objects as go\n",
    "import numpy as np\n",
    "import matplotlib.pyplot as plt\n",
    "from collections import defaultdict\n",
    "\n",
    "load_dotenv()"
   ]
  },
  {
   "cell_type": "markdown",
   "id": "d208a243",
   "metadata": {},
   "source": [
    "2.Load Dataset"
   ]
  },
  {
   "cell_type": "code",
   "execution_count": 32,
   "id": "03065b34",
   "metadata": {},
   "outputs": [
    {
     "name": "stderr",
     "output_type": "stream",
     "text": [
      "C:\\Users\\Srira\\AppData\\Local\\Temp\\ipykernel_47932\\3838537080.py:1: DtypeWarning:\n",
      "\n",
      "Columns (32) have mixed types. Specify dtype option on import or set low_memory=False.\n",
      "\n"
     ]
    },
    {
     "data": {
      "text/html": [
       "<div>\n",
       "<style scoped>\n",
       "    .dataframe tbody tr th:only-of-type {\n",
       "        vertical-align: middle;\n",
       "    }\n",
       "\n",
       "    .dataframe tbody tr th {\n",
       "        vertical-align: top;\n",
       "    }\n",
       "\n",
       "    .dataframe thead th {\n",
       "        text-align: right;\n",
       "    }\n",
       "</style>\n",
       "<table border=\"1\" class=\"dataframe\">\n",
       "  <thead>\n",
       "    <tr style=\"text-align: right;\">\n",
       "      <th></th>\n",
       "      <th>Unnamed: 0</th>\n",
       "      <th>Model</th>\n",
       "      <th>Serie</th>\n",
       "      <th>Company</th>\n",
       "      <th>Body style</th>\n",
       "      <th>Segment</th>\n",
       "      <th>Production years</th>\n",
       "      <th>Cylinders</th>\n",
       "      <th>Displacement</th>\n",
       "      <th>Power(HP)</th>\n",
       "      <th>...</th>\n",
       "      <th>Nominal Capacity</th>\n",
       "      <th>Top speed (electrical)</th>\n",
       "      <th>EV Range</th>\n",
       "      <th>High mpg</th>\n",
       "      <th>Extra high mpg</th>\n",
       "      <th>Medium mpg</th>\n",
       "      <th>Low mpg</th>\n",
       "      <th>Total maximum torque</th>\n",
       "      <th>Maximum Capacity</th>\n",
       "      <th>Specification summary</th>\n",
       "    </tr>\n",
       "  </thead>\n",
       "  <tbody>\n",
       "    <tr>\n",
       "      <th>0</th>\n",
       "      <td>0</td>\n",
       "      <td>AC Ace (1993-1996)</td>\n",
       "      <td>Ace</td>\n",
       "      <td>AC</td>\n",
       "      <td>Convertible (spider/spyder, cabrio/cabriolet, ...</td>\n",
       "      <td>Coupe Cabrio</td>\n",
       "      <td>1993, 1994, 1995, 1996</td>\n",
       "      <td>V8</td>\n",
       "      <td>4942 cm3</td>\n",
       "      <td>260 HP @ 5250 RPM</td>\n",
       "      <td>...</td>\n",
       "      <td>NaN</td>\n",
       "      <td>NaN</td>\n",
       "      <td>NaN</td>\n",
       "      <td>NaN</td>\n",
       "      <td>NaN</td>\n",
       "      <td>NaN</td>\n",
       "      <td>NaN</td>\n",
       "      <td>NaN</td>\n",
       "      <td>NaN</td>\n",
       "      <td>4.9L V8 4AT (260 HP)</td>\n",
       "    </tr>\n",
       "    <tr>\n",
       "      <th>1</th>\n",
       "      <td>1</td>\n",
       "      <td>AC Aceca (1998-2000)</td>\n",
       "      <td>Aceca</td>\n",
       "      <td>AC</td>\n",
       "      <td>Coupé (two-door)</td>\n",
       "      <td>Coupe</td>\n",
       "      <td>1998, 1999, 2000</td>\n",
       "      <td>V8</td>\n",
       "      <td>3506 cm3</td>\n",
       "      <td>350 HP @ 6500 RPM</td>\n",
       "      <td>...</td>\n",
       "      <td>NaN</td>\n",
       "      <td>NaN</td>\n",
       "      <td>NaN</td>\n",
       "      <td>NaN</td>\n",
       "      <td>NaN</td>\n",
       "      <td>NaN</td>\n",
       "      <td>NaN</td>\n",
       "      <td>NaN</td>\n",
       "      <td>NaN</td>\n",
       "      <td>3.5L V8 32V Turbo 6MT (354 HP)</td>\n",
       "    </tr>\n",
       "    <tr>\n",
       "      <th>2</th>\n",
       "      <td>2</td>\n",
       "      <td>AC Aceca (1998-2000)</td>\n",
       "      <td>Aceca</td>\n",
       "      <td>AC</td>\n",
       "      <td>Coupé (two-door)</td>\n",
       "      <td>Coupe</td>\n",
       "      <td>1998, 1999, 2000</td>\n",
       "      <td>V8</td>\n",
       "      <td>3506 cm3</td>\n",
       "      <td>350 HP @ 6500 RPM</td>\n",
       "      <td>...</td>\n",
       "      <td>NaN</td>\n",
       "      <td>NaN</td>\n",
       "      <td>NaN</td>\n",
       "      <td>NaN</td>\n",
       "      <td>NaN</td>\n",
       "      <td>NaN</td>\n",
       "      <td>NaN</td>\n",
       "      <td>NaN</td>\n",
       "      <td>NaN</td>\n",
       "      <td>4.6L V8 5MT (326 HP)</td>\n",
       "    </tr>\n",
       "    <tr>\n",
       "      <th>3</th>\n",
       "      <td>3</td>\n",
       "      <td>AC Cobra MkIII (1965-1967)</td>\n",
       "      <td>Cobra</td>\n",
       "      <td>AC</td>\n",
       "      <td>Coupé (two-door)</td>\n",
       "      <td>Roadster &amp; Convertible</td>\n",
       "      <td>1965, 1966, 1967</td>\n",
       "      <td>V8</td>\n",
       "      <td>4727 cm3</td>\n",
       "      <td>280 HP @ 5800 RPM</td>\n",
       "      <td>...</td>\n",
       "      <td>NaN</td>\n",
       "      <td>NaN</td>\n",
       "      <td>NaN</td>\n",
       "      <td>NaN</td>\n",
       "      <td>NaN</td>\n",
       "      <td>NaN</td>\n",
       "      <td>NaN</td>\n",
       "      <td>NaN</td>\n",
       "      <td>NaN</td>\n",
       "      <td>4.7L V8 4MT (280 HP)</td>\n",
       "    </tr>\n",
       "    <tr>\n",
       "      <th>4</th>\n",
       "      <td>4</td>\n",
       "      <td>AC Cobra 378 MkIV (1965-1967)</td>\n",
       "      <td>Cobra</td>\n",
       "      <td>AC</td>\n",
       "      <td>Coupé (two-door)</td>\n",
       "      <td>Roadster &amp; Convertible</td>\n",
       "      <td>1965, 1966, 1967</td>\n",
       "      <td>V8</td>\n",
       "      <td>NaN</td>\n",
       "      <td>446.1 HP @ - RPM</td>\n",
       "      <td>...</td>\n",
       "      <td>NaN</td>\n",
       "      <td>NaN</td>\n",
       "      <td>NaN</td>\n",
       "      <td>NaN</td>\n",
       "      <td>NaN</td>\n",
       "      <td>NaN</td>\n",
       "      <td>NaN</td>\n",
       "      <td>NaN</td>\n",
       "      <td>NaN</td>\n",
       "      <td>6.2L V8 6MT</td>\n",
       "    </tr>\n",
       "  </tbody>\n",
       "</table>\n",
       "<p>5 rows × 56 columns</p>\n",
       "</div>"
      ],
      "text/plain": [
       "   Unnamed: 0                          Model  Serie Company  \\\n",
       "0           0             AC Ace (1993-1996)    Ace      AC   \n",
       "1           1           AC Aceca (1998-2000)  Aceca      AC   \n",
       "2           2           AC Aceca (1998-2000)  Aceca      AC   \n",
       "3           3     AC Cobra MkIII (1965-1967)  Cobra      AC   \n",
       "4           4  AC Cobra 378 MkIV (1965-1967)  Cobra      AC   \n",
       "\n",
       "                                          Body style                 Segment  \\\n",
       "0  Convertible (spider/spyder, cabrio/cabriolet, ...            Coupe Cabrio   \n",
       "1                                   Coupé (two-door)                   Coupe   \n",
       "2                                   Coupé (two-door)                   Coupe   \n",
       "3                                   Coupé (two-door)  Roadster & Convertible   \n",
       "4                                   Coupé (two-door)  Roadster & Convertible   \n",
       "\n",
       "         Production years Cylinders Displacement          Power(HP)  ...  \\\n",
       "0  1993, 1994, 1995, 1996        V8     4942 cm3  260 HP @ 5250 RPM  ...   \n",
       "1        1998, 1999, 2000        V8     3506 cm3  350 HP @ 6500 RPM  ...   \n",
       "2        1998, 1999, 2000        V8     3506 cm3  350 HP @ 6500 RPM  ...   \n",
       "3        1965, 1966, 1967        V8     4727 cm3  280 HP @ 5800 RPM  ...   \n",
       "4        1965, 1966, 1967        V8          NaN   446.1 HP @ - RPM  ...   \n",
       "\n",
       "  Nominal Capacity Top speed (electrical) EV Range High mpg Extra high mpg  \\\n",
       "0              NaN                    NaN      NaN      NaN            NaN   \n",
       "1              NaN                    NaN      NaN      NaN            NaN   \n",
       "2              NaN                    NaN      NaN      NaN            NaN   \n",
       "3              NaN                    NaN      NaN      NaN            NaN   \n",
       "4              NaN                    NaN      NaN      NaN            NaN   \n",
       "\n",
       "  Medium mpg Low mpg Total maximum torque Maximum Capacity  \\\n",
       "0        NaN     NaN                  NaN              NaN   \n",
       "1        NaN     NaN                  NaN              NaN   \n",
       "2        NaN     NaN                  NaN              NaN   \n",
       "3        NaN     NaN                  NaN              NaN   \n",
       "4        NaN     NaN                  NaN              NaN   \n",
       "\n",
       "            Specification summary  \n",
       "0            4.9L V8 4AT (260 HP)  \n",
       "1  3.5L V8 32V Turbo 6MT (354 HP)  \n",
       "2            4.6L V8 5MT (326 HP)  \n",
       "3            4.7L V8 4MT (280 HP)  \n",
       "4                     6.2L V8 6MT  \n",
       "\n",
       "[5 rows x 56 columns]"
      ]
     },
     "execution_count": 32,
     "metadata": {},
     "output_type": "execute_result"
    }
   ],
   "source": [
    "df = pd.read_csv(\"cars-dataset.csv\")\n",
    "df.columns = df.columns.str.strip()\n",
    "df = df.dropna(subset=[\"Company\", \"Model\", \"Production years\"], how=\"any\")\n",
    "df.head()\n"
   ]
  },
  {
   "cell_type": "markdown",
   "id": "5b972123",
   "metadata": {},
   "source": [
    "3.Define all Spec Columns that are going to be used"
   ]
  },
  {
   "cell_type": "code",
   "execution_count": 33,
   "id": "a2ae27ea",
   "metadata": {},
   "outputs": [],
   "source": [
    "key_columns = [\n",
    "    \"Company\", \"Model\", \"Serie\", \"Production years\", \"Cylinders\", \"Displacement\", \"Power(HP)\",\n",
    "    \"Torque(lb-ft)\", \"Fuel\", \"Fuel capacity\", \"Top Speed\", \"Acceleration 0-62 Mph (0-100 kph)\",\n",
    "    \"Drive Type\", \"Gearbox\", \"Length\", \"Width\", \"Height\", \"Wheelbase\",\n",
    "    \"Unladen Weight\", \"Cargo Volume\", \"City mpg\", \"Highway mpg\", \"Combined mpg\"\n",
    "]\n"
   ]
  },
  {
   "cell_type": "markdown",
   "id": "771036bf",
   "metadata": {},
   "source": [
    "4.Converting Rows to Natural Language Summaries"
   ]
  },
  {
   "cell_type": "code",
   "execution_count": 34,
   "id": "ca461a25",
   "metadata": {},
   "outputs": [],
   "source": [
    "documents = []\n",
    "doc_labels = []\n",
    "company_list = []\n",
    "for i, row in df.iterrows():\n",
    "    parts = [f\"{col}: {row[col]}\" for col in key_columns if col in row and pd.notnull(row[col])]\n",
    "    car_name = f\"{row['Company']} {row['Model']} ({row['Production years']})\"\n",
    "    summary = car_name + \" - \" + \"; \".join(parts)\n",
    "    doc = Document(\n",
    "        page_content=summary,\n",
    "        metadata={\"index\": i, \"make\": row['Company'], \"model\": row['Model'], \"year\": row['Production years']}\n",
    "    )\n",
    "    documents.append(doc)\n",
    "    doc_labels.append(car_name)\n",
    "    company_list.append(row['Company'])"
   ]
  },
  {
   "cell_type": "markdown",
   "id": "6113126d",
   "metadata": {},
   "source": [
    "5.Creating Embeddings and Vector Store"
   ]
  },
  {
   "cell_type": "code",
   "execution_count": 35,
   "id": "9fb75780",
   "metadata": {},
   "outputs": [],
   "source": [
    "embedding_fn = OpenAIEmbeddings(model=\"text-embedding-3-small\")\n",
    "db_dir = \"./car_vector_store\"\n",
    "\n",
    "if not os.path.exists(db_dir):\n",
    "    vector_store = Chroma.from_documents(\n",
    "        documents=documents,\n",
    "        embedding=embedding_fn,\n",
    "        persist_directory=db_dir\n",
    "    )\n",
    "    vector_store.persist()\n",
    "else:\n",
    "    vector_store = Chroma(\n",
    "        persist_directory=db_dir,\n",
    "        embedding_function=embedding_fn\n",
    "    )\n",
    "\n",
    "retriever = vector_store.as_retriever(search_kwargs={\"k\": 5})"
   ]
  },
  {
   "cell_type": "markdown",
   "id": "c2fc8991",
   "metadata": {},
   "source": [
    "6. Visualizations"
   ]
  },
  {
   "cell_type": "code",
   "execution_count": 36,
   "id": "7d93cc76",
   "metadata": {},
   "outputs": [
    {
     "name": "stderr",
     "output_type": "stream",
     "text": [
      "C:\\Users\\Srira\\AppData\\Local\\Temp\\ipykernel_47932\\828269484.py:2: MatplotlibDeprecationWarning:\n",
      "\n",
      "The get_cmap function was deprecated in Matplotlib 3.7 and will be removed in 3.11. Use ``matplotlib.colormaps[name]`` or ``matplotlib.colormaps.get_cmap()`` or ``pyplot.get_cmap()`` instead.\n",
      "\n"
     ]
    },
    {
     "name": "stdout",
     "output_type": "stream",
     "text": [
      "\n",
      "Generating vector visualizations (2D & 3D with t-SNE)...\n"
     ]
    }
   ],
   "source": [
    "unique_companies = list(set(company_list))\n",
    "color_palette = plt.cm.get_cmap(\"tab20\", len(unique_companies))\n",
    "company_color_map = {\n",
    "    company: f\"rgb({int(r*255)},{int(g*255)},{int(b*255)})\"\n",
    "    for company, (r, g, b, _) in zip(unique_companies, color_palette.colors)\n",
    "}\n",
    "colors = [company_color_map[make] for make in company_list[:1000]]\n",
    "\n",
    "# ---- Embedding and Dimensionality Reduction ----\n",
    "print(\"\\nGenerating vector visualizations (2D & 3D with t-SNE)...\")\n",
    "\n",
    "sample_docs = documents[:1000]\n",
    "sample_labels = doc_labels[:1000]\n",
    "sample_texts = [doc.page_content for doc in sample_docs]\n",
    "\n",
    "# Safe batch embedding\n",
    "batch_size = 512\n",
    "sample_embeddings = []\n",
    "for i in range(0, len(sample_texts), batch_size):\n",
    "    batch = sample_texts[i:i + batch_size]\n",
    "    sample_embeddings.extend(embedding_fn.embed_documents(batch))\n",
    "\n",
    "X = np.array(sample_embeddings)"
   ]
  },
  {
   "cell_type": "markdown",
   "id": "9e69e651",
   "metadata": {},
   "source": [
    "7. 2D Visual"
   ]
  },
  {
   "cell_type": "code",
   "execution_count": 38,
   "id": "b5af2843",
   "metadata": {},
   "outputs": [],
   "source": [
    "tsne_2d = TSNE(n_components=2, random_state=42)\n",
    "X_2d = tsne_2d.fit_transform(X)\n",
    "\n",
    "fig_2d = go.Figure(data=[go.Scatter(\n",
    "    x=X_2d[:, 0],\n",
    "    y=X_2d[:, 1],\n",
    "    mode='markers',\n",
    "    marker=dict(size=5, color=colors, opacity=0.8),\n",
    "    text=[f\"Car: {label}\" for label in sample_labels],\n",
    "    hoverinfo='text'\n",
    ")])\n",
    "fig_2d.update_layout(\n",
    "    title='2D t-SNE Car Spec Embedding',\n",
    "    width=800,\n",
    "    height=600,\n",
    "    margin=dict(r=20, b=10, l=10, t=40)\n",
    ")\n",
    "fig_2d.write_html(\"car_embedding_2d.html\", auto_open=True)"
   ]
  },
  {
   "cell_type": "markdown",
   "id": "6716efee",
   "metadata": {},
   "source": [
    "8. 3D Visual"
   ]
  },
  {
   "cell_type": "code",
   "execution_count": 40,
   "id": "0f695366",
   "metadata": {},
   "outputs": [],
   "source": [
    "tsne_3d = TSNE(n_components=3, random_state=42)\n",
    "X_3d = tsne_3d.fit_transform(X)\n",
    "\n",
    "fig_3d = go.Figure(data=[go.Scatter3d(\n",
    "    x=X_3d[:, 0],\n",
    "    y=X_3d[:, 1],\n",
    "    z=X_3d[:, 2],\n",
    "    mode='markers',\n",
    "    marker=dict(size=5, color=colors, opacity=0.8),\n",
    "    text=[f\"Car: {label}\" for label in sample_labels],\n",
    "    hoverinfo='text'\n",
    ")])\n",
    "fig_3d.update_layout(\n",
    "    title='3D t-SNE Car Spec Embedding',\n",
    "    scene=dict(xaxis_title='x', yaxis_title='y', zaxis_title='z'),\n",
    "    width=900,\n",
    "    height=700,\n",
    "    margin=dict(r=20, b=10, l=10, t=40)\n",
    ")\n",
    "fig_3d.write_html(\"car_embedding_3d.html\", auto_open=True)"
   ]
  }
 ],
 "metadata": {
  "kernelspec": {
   "display_name": "ragm3",
   "language": "python",
   "name": "python3"
  },
  "language_info": {
   "codemirror_mode": {
    "name": "ipython",
    "version": 3
   },
   "file_extension": ".py",
   "mimetype": "text/x-python",
   "name": "python",
   "nbconvert_exporter": "python",
   "pygments_lexer": "ipython3",
   "version": "3.11.13"
  }
 },
 "nbformat": 4,
 "nbformat_minor": 5
}
